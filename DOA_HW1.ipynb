{
  "nbformat": 4,
  "nbformat_minor": 0,
  "metadata": {
    "colab": {
      "provenance": []
    },
    "kernelspec": {
      "name": "python3",
      "display_name": "Python 3"
    },
    "language_info": {
      "name": "python"
    }
  },
  "cells": [
    {
      "cell_type": "markdown",
      "source": [
        "# Question 1 (6.3)"
      ],
      "metadata": {
        "id": "XmFybY7r1IXL"
      }
    },
    {
      "cell_type": "code",
      "source": [
        "def rec(i, r):#recursion\n",
        "    if r == 0 or i < 0:\n",
        "        return 0\n",
        "    if (i, r) in res:\n",
        "        return res[(i, r)]\n",
        "    j = i - 1\n",
        "    while j >= 0 and m[i] - m[j] < k:\n",
        "        j -= 1\n",
        "    res[(i, r)] = max(rec(i-1, r), p[i] + rec(j, r-1))\n",
        "    return res[(i, r)]\n"
      ],
      "metadata": {
        "id": "7iuDbW6n0wJQ"
      },
      "execution_count": null,
      "outputs": []
    },
    {
      "cell_type": "code",
      "source": [
        "m = [1, 3, 6, 10, 15]\n",
        "p = [5, 6, 5, 1, 3]\n",
        "k = 4\n",
        "R = 2\n",
        "n = len(m)\n",
        "res = {}\n",
        "print(rec(n-1, R))\n"
      ],
      "metadata": {
        "colab": {
          "base_uri": "https://localhost:8080/"
        },
        "id": "ejPLya1b07ps",
        "outputId": "e2ffcda5-bc9a-4909-e11c-56fb8a07d12c"
      },
      "execution_count": null,
      "outputs": [
        {
          "output_type": "stream",
          "name": "stdout",
          "text": [
            "10\n"
          ]
        }
      ]
    },
    {
      "cell_type": "code",
      "source": [
        "def solve(m, p, k, R):#bottom up\n",
        "    n = len(m)\n",
        "    dp = [[0]*(R+1) for _ in range(n+1)]\n",
        "    for i in range(1, n+1):\n",
        "        for r in range(1, R+1):\n",
        "            j = i - 1\n",
        "            while j > 0 and m[i-1] - m[j-1] < k:\n",
        "                j -= 1\n",
        "            dp[i][r] = max(dp[i-1][r], p[i-1] + dp[j][r-1])\n",
        "    return dp[n][R]\n"
      ],
      "metadata": {
        "id": "iE0NElkr1AnJ"
      },
      "execution_count": null,
      "outputs": []
    },
    {
      "cell_type": "code",
      "source": [
        "m = [1, 3, 6, 10, 15]\n",
        "p = [5, 6, 5, 1, 3]\n",
        "k = 4\n",
        "R = 2\n",
        "print(solve(m, p, k, R))\n"
      ],
      "metadata": {
        "colab": {
          "base_uri": "https://localhost:8080/"
        },
        "id": "nxTkhYqC1EyZ",
        "outputId": "faee5a75-f038-4574-dcdd-38d76bee2b6f"
      },
      "execution_count": null,
      "outputs": [
        {
          "output_type": "stream",
          "name": "stdout",
          "text": [
            "10\n"
          ]
        }
      ]
    },
    {
      "cell_type": "markdown",
      "source": [
        "# Question 2 - 6.14"
      ],
      "metadata": {
        "id": "VlmQ-jFLzD-K"
      }
    },
    {
      "cell_type": "code",
      "source": [
        "#Recursive algorithm:\n",
        "def cloth_cutting_recursive(x, y):\n",
        "    if x == 0 or y == 0:\n",
        "      return 0\n",
        "    max_value = 0\n",
        "    if (x,y) in Results:\n",
        "      return Results[(x,y)]\n",
        "    if (x, y) in Products:\n",
        "        max_value = Prices[Products.index((x, y))]\n",
        "    for xcut in range(1, x):\n",
        "        max_value = max(max_value, cloth_cutting_recursive(xcut, y) + cloth_cutting_recursive(x - xcut, y))\n",
        "    for ycut in range(1, y):\n",
        "        max_value = max(max_value, cloth_cutting_recursive(x, ycut) + cloth_cutting_recursive(x, y - ycut))\n",
        "    Results[(x,y)] = max_value\n",
        "    return max_value\n",
        "\n",
        "#Implementation of the code:\n",
        "X = 12\n",
        "Y = 10\n",
        "Products = [(1,1),(5,5),(12,10)]\n",
        "Prices = [2,70,320]\n",
        "Results = {}\n",
        "\n",
        "max_price = cloth_cutting_recursive(X, Y)\n",
        "print(f\"The maximum sum of selling prices will be: {max_price}\")"
      ],
      "metadata": {
        "colab": {
          "base_uri": "https://localhost:8080/"
        },
        "id": "LyWIw4Riessc",
        "outputId": "94b4c471-39ca-408f-fee4-39f7a1692744"
      },
      "execution_count": null,
      "outputs": [
        {
          "output_type": "stream",
          "name": "stdout",
          "text": [
            "The maximum sum of selling prices will be: 320\n"
          ]
        }
      ]
    },
    {
      "cell_type": "code",
      "source": [
        "#X: horizontal dimensions of the cloth.\n",
        "#Y: vertical dimenations of the cloth.\n",
        "#Products: an array of length n with items that can be made by the XxY cloth.\n",
        "#Prices: an array of length n with costs of the items that can be made by the XxY cloth."
      ],
      "metadata": {
        "id": "D1DhK5_RIzLf"
      },
      "execution_count": null,
      "outputs": []
    },
    {
      "cell_type": "code",
      "source": [
        "import numpy as np"
      ],
      "metadata": {
        "id": "en4tQWzUKQuO"
      },
      "execution_count": null,
      "outputs": []
    },
    {
      "cell_type": "code",
      "source": [
        "#Bottom-up algorithm:\n",
        "def cloth_cutting(X,Y):\n",
        "  global Products\n",
        "  global Prices\n",
        "  cut = np.zeros((X+1,Y+1))\n",
        "  if X==0 or Y==0:\n",
        "    return 0\n",
        "  for x in range(1,X+1):\n",
        "    for y in range(1,Y+1):\n",
        "      for xcut in range(1,x):\n",
        "        cut[x,y] = max(cut[x,y], cut[xcut,y] + cut[x-xcut,y])\n",
        "      for ycut in range(1,y):\n",
        "        cut[x,y] = max(cut[x,y], cut[x,ycut] + cut[x,y-ycut])\n",
        "      for p in Products:\n",
        "        if p == (x,y):\n",
        "          cut[x,y] = max(cut[x,y], Prices[Products.index(p)])\n",
        "  #print (X,Y,'\\n',cut,'\\n')\n",
        "  return cut[X,Y]\n",
        "\n",
        "#Implementation of the code:\n",
        "X = 12\n",
        "Y = 10\n",
        "Products = [(1,1),(5,5),(12,10)]\n",
        "Prices = [2,70,60]\n",
        "\n",
        "max_price = cloth_cutting(X,Y)\n",
        "print (f\"The maximum sum of selling prices will be: {max_price}.\")"
      ],
      "metadata": {
        "colab": {
          "base_uri": "https://localhost:8080/"
        },
        "outputId": "473dee66-7174-4c1d-a6a1-87f3826c9bd3",
        "id": "6fx4Xp8Sw8TQ"
      },
      "execution_count": null,
      "outputs": [
        {
          "output_type": "stream",
          "name": "stdout",
          "text": [
            "The maximum sum of selling prices will be: 320.0.\n"
          ]
        }
      ]
    },
    {
      "cell_type": "code",
      "source": [
        "print (Results)"
      ],
      "metadata": {
        "colab": {
          "base_uri": "https://localhost:8080/"
        },
        "id": "OR074OR6fPWU",
        "outputId": "cad850cb-a892-4d93-d4a9-6194ee524b0e"
      },
      "execution_count": null,
      "outputs": [
        {
          "output_type": "stream",
          "name": "stdout",
          "text": [
            "{(1, 1): 2, (1, 2): 4, (1, 3): 6, (1, 4): 8, (1, 5): 10, (1, 6): 12, (1, 7): 14, (1, 8): 16, (1, 9): 18, (1, 10): 20, (2, 1): 4, (2, 2): 8, (2, 3): 12, (2, 4): 16, (2, 5): 20, (2, 6): 24, (2, 7): 28, (2, 8): 32, (2, 9): 36, (2, 10): 40, (3, 1): 6, (3, 2): 12, (3, 3): 18, (3, 4): 24, (3, 5): 30, (3, 6): 36, (3, 7): 42, (3, 8): 48, (3, 9): 54, (3, 10): 60, (4, 1): 8, (4, 2): 16, (4, 3): 24, (4, 4): 32, (4, 5): 40, (4, 6): 48, (4, 7): 56, (4, 8): 64, (4, 9): 72, (4, 10): 80, (5, 1): 10, (5, 2): 20, (5, 3): 30, (5, 4): 40, (5, 5): 70, (5, 6): 80, (5, 7): 90, (5, 8): 100, (5, 9): 110, (5, 10): 140, (6, 1): 12, (6, 2): 24, (6, 3): 36, (6, 4): 48, (6, 5): 80, (6, 6): 92, (6, 7): 104, (6, 8): 116, (6, 9): 128, (6, 10): 160, (7, 1): 14, (7, 2): 28, (7, 3): 42, (7, 4): 56, (7, 5): 90, (7, 6): 104, (7, 7): 118, (7, 8): 132, (7, 9): 146, (7, 10): 180, (8, 1): 16, (8, 2): 32, (8, 3): 48, (8, 4): 64, (8, 5): 100, (8, 6): 116, (8, 7): 132, (8, 8): 148, (8, 9): 164, (8, 10): 200, (9, 1): 18, (9, 2): 36, (9, 3): 54, (9, 4): 72, (9, 5): 110, (9, 6): 128, (9, 7): 146, (9, 8): 164, (9, 9): 182, (9, 10): 220, (10, 1): 20, (10, 2): 40, (10, 3): 60, (10, 4): 80, (10, 5): 140, (10, 6): 160, (10, 7): 180, (10, 8): 200, (10, 9): 220, (10, 10): 280, (11, 1): 22, (11, 2): 44, (11, 3): 66, (11, 4): 88, (11, 5): 150, (11, 6): 172, (11, 7): 194, (11, 8): 216, (11, 9): 238, (11, 10): 300, (12, 1): 24, (12, 2): 48, (12, 3): 72, (12, 4): 96, (12, 5): 160, (12, 6): 184, (12, 7): 208, (12, 8): 232, (12, 9): 256, (12, 10): 320}\n"
          ]
        }
      ]
    },
    {
      "cell_type": "markdown",
      "source": [
        "# Question 3 - 6.4\n"
      ],
      "metadata": {
        "id": "zOIeCch_2kW7"
      }
    },
    {
      "cell_type": "code",
      "source": [
        "def segment(i, s, dict, memo):#recursive\n",
        "    if i == 0:\n",
        "        return True\n",
        "    if i in memo:\n",
        "        return memo[i]\n",
        "    for j in range(i):\n",
        "        if segment(j, s, dict, memo) and dict(s[j:i]):\n",
        "            memo[i] = True\n",
        "            return True\n",
        "    memo[i] = False\n",
        "    return False\n"
      ],
      "metadata": {
        "id": "UkRXtjIU2p-q"
      },
      "execution_count": null,
      "outputs": []
    },
    {
      "cell_type": "code",
      "source": [
        "d = {'it','was','the','best','of','times'}#sample dict for now\n",
        "def dict(w): return w in d\n",
        "\n",
        "s = 'itwasthebestoftimes'\n",
        "memo = {}\n",
        "print(segment(len(s), s, dict, memo))\n"
      ],
      "metadata": {
        "colab": {
          "base_uri": "https://localhost:8080/"
        },
        "id": "4qYoBjYr2uhf",
        "outputId": "8e28f0ce-7252-459b-a1df-f7df918e952d"
      },
      "execution_count": null,
      "outputs": [
        {
          "output_type": "stream",
          "name": "stdout",
          "text": [
            "True\n"
          ]
        }
      ]
    },
    {
      "cell_type": "code",
      "source": [
        "def split(s, dict):#bottom up algo\n",
        "    n = len(s)\n",
        "    v = [False] * (n+1)\n",
        "    p = [-1] * (n+1)\n",
        "    v[0] = True\n",
        "    for i in range(1, n+1):\n",
        "        for j in range(i):\n",
        "            if v[j] and dict(s[j:i]):\n",
        "                v[i] = True\n",
        "                p[i] = j\n",
        "                break\n",
        "    if not v[n]:\n",
        "        return None\n",
        "    out = []\n",
        "    i = n\n",
        "    while i > 0:\n",
        "        out.append(s[p[i]:i])\n",
        "        i = p[i]\n",
        "    return out[::-1]\n"
      ],
      "metadata": {
        "id": "cTlJmblW3i30"
      },
      "execution_count": null,
      "outputs": []
    },
    {
      "cell_type": "code",
      "source": [
        "d = {'it','was','the','best','of','times'}\n",
        "def dict(w): return w in d\n",
        "\n",
        "s = 'itwasthebestoftimes'\n",
        "print(split(s, dict))\n"
      ],
      "metadata": {
        "colab": {
          "base_uri": "https://localhost:8080/"
        },
        "id": "kKSt6nCX3oPK",
        "outputId": "da751f23-6e81-4788-e027-a9cdb9d42eba"
      },
      "execution_count": null,
      "outputs": [
        {
          "output_type": "stream",
          "name": "stdout",
          "text": [
            "['it', 'was', 'the', 'best', 'of', 'times']\n"
          ]
        }
      ]
    }
  ]
}